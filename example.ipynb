{
 "cells": [
  {
   "cell_type": "markdown",
   "id": "aee9cc31-a639-48e0-92ac-22f7959d8493",
   "metadata": {},
   "source": [
    "# Introduction to VICE\n",
    "\n",
    "Requirements: You need to have installed VICE and to specify its path as the variable VICE_path (see \"Paths\").\n",
    "You need to have created a conda environment for VICE called \"vice\".\n"
   ]
  },
  {
   "cell_type": "markdown",
   "id": "e2468153-d67a-445b-83c1-6f419a5b1366",
   "metadata": {},
   "source": [
    "### Load libraries"
   ]
  },
  {
   "cell_type": "code",
   "execution_count": 1,
   "id": "701edf7c-d37e-4680-aedd-2efb51697d45",
   "metadata": {},
   "outputs": [],
   "source": [
    "import numpy as np\n",
    "import pandas as pd\n",
    "import os"
   ]
  },
  {
   "cell_type": "markdown",
   "id": "92c49bfe-ca88-4b04-b4d3-c8ca0afd9ec9",
   "metadata": {},
   "source": [
    "### Paths"
   ]
  },
  {
   "cell_type": "code",
   "execution_count": 2,
   "id": "70a53832-7ea5-4d94-ba70-6dd95d34ed48",
   "metadata": {},
   "outputs": [],
   "source": [
    "# specify a path to where VICE package is installed\n",
    "VICE_path = \"../VICE/\""
   ]
  },
  {
   "cell_type": "markdown",
   "id": "5d7c800d-8c2a-4c19-8772-fd6ccdf54878",
   "metadata": {},
   "source": [
    "## Processing Data"
   ]
  },
  {
   "cell_type": "code",
   "execution_count": 3,
   "id": "60d8e5da-dab8-486b-a3e7-5e432810f7c6",
   "metadata": {},
   "outputs": [
    {
     "data": {
      "text/html": [
       "<div>\n",
       "<style scoped>\n",
       "    .dataframe tbody tr th:only-of-type {\n",
       "        vertical-align: middle;\n",
       "    }\n",
       "\n",
       "    .dataframe tbody tr th {\n",
       "        vertical-align: top;\n",
       "    }\n",
       "\n",
       "    .dataframe thead th {\n",
       "        text-align: right;\n",
       "    }\n",
       "</style>\n",
       "<table border=\"1\" class=\"dataframe\">\n",
       "  <thead>\n",
       "    <tr style=\"text-align: right;\">\n",
       "      <th></th>\n",
       "      <th>worker_no</th>\n",
       "      <th>exclude</th>\n",
       "      <th>item1</th>\n",
       "      <th>item2</th>\n",
       "      <th>item3</th>\n",
       "      <th>chosen_item</th>\n",
       "      <th>isrepeat</th>\n",
       "      <th>RT</th>\n",
       "    </tr>\n",
       "  </thead>\n",
       "  <tbody>\n",
       "    <tr>\n",
       "      <th>0</th>\n",
       "      <td>1</td>\n",
       "      <td>0</td>\n",
       "      <td>telegraph</td>\n",
       "      <td>bumper</td>\n",
       "      <td>canvas</td>\n",
       "      <td>telegraph</td>\n",
       "      <td>0</td>\n",
       "      <td>12260</td>\n",
       "    </tr>\n",
       "    <tr>\n",
       "      <th>1</th>\n",
       "      <td>1</td>\n",
       "      <td>0</td>\n",
       "      <td>punching bag</td>\n",
       "      <td>tarantula</td>\n",
       "      <td>music box</td>\n",
       "      <td>tarantula</td>\n",
       "      <td>0</td>\n",
       "      <td>2450</td>\n",
       "    </tr>\n",
       "    <tr>\n",
       "      <th>2</th>\n",
       "      <td>1</td>\n",
       "      <td>0</td>\n",
       "      <td>telegraph</td>\n",
       "      <td>chariot</td>\n",
       "      <td>rolling pin</td>\n",
       "      <td>chariot</td>\n",
       "      <td>1</td>\n",
       "      <td>1916</td>\n",
       "    </tr>\n",
       "    <tr>\n",
       "      <th>3</th>\n",
       "      <td>1</td>\n",
       "      <td>0</td>\n",
       "      <td>rudder</td>\n",
       "      <td>bumper</td>\n",
       "      <td>washcloth</td>\n",
       "      <td>washcloth</td>\n",
       "      <td>0</td>\n",
       "      <td>2453</td>\n",
       "    </tr>\n",
       "    <tr>\n",
       "      <th>4</th>\n",
       "      <td>1</td>\n",
       "      <td>0</td>\n",
       "      <td>flagpole</td>\n",
       "      <td>bucket</td>\n",
       "      <td>pizza</td>\n",
       "      <td>pizza</td>\n",
       "      <td>0</td>\n",
       "      <td>4671</td>\n",
       "    </tr>\n",
       "    <tr>\n",
       "      <th>...</th>\n",
       "      <td>...</td>\n",
       "      <td>...</td>\n",
       "      <td>...</td>\n",
       "      <td>...</td>\n",
       "      <td>...</td>\n",
       "      <td>...</td>\n",
       "      <td>...</td>\n",
       "      <td>...</td>\n",
       "    </tr>\n",
       "    <tr>\n",
       "      <th>52267</th>\n",
       "      <td>121</td>\n",
       "      <td>0</td>\n",
       "      <td>candelabra</td>\n",
       "      <td>file</td>\n",
       "      <td>jet</td>\n",
       "      <td>candelabra</td>\n",
       "      <td>1</td>\n",
       "      <td>1632</td>\n",
       "    </tr>\n",
       "    <tr>\n",
       "      <th>52268</th>\n",
       "      <td>121</td>\n",
       "      <td>0</td>\n",
       "      <td>dice</td>\n",
       "      <td>tea</td>\n",
       "      <td>pizza</td>\n",
       "      <td>pizza</td>\n",
       "      <td>0</td>\n",
       "      <td>3525</td>\n",
       "    </tr>\n",
       "    <tr>\n",
       "      <th>52269</th>\n",
       "      <td>121</td>\n",
       "      <td>0</td>\n",
       "      <td>dice</td>\n",
       "      <td>canvas</td>\n",
       "      <td>telegraph</td>\n",
       "      <td>canvas</td>\n",
       "      <td>1</td>\n",
       "      <td>1606</td>\n",
       "    </tr>\n",
       "    <tr>\n",
       "      <th>52270</th>\n",
       "      <td>121</td>\n",
       "      <td>0</td>\n",
       "      <td>washcloth</td>\n",
       "      <td>dice</td>\n",
       "      <td>bookshelf</td>\n",
       "      <td>bookshelf</td>\n",
       "      <td>0</td>\n",
       "      <td>2083</td>\n",
       "    </tr>\n",
       "    <tr>\n",
       "      <th>52271</th>\n",
       "      <td>121</td>\n",
       "      <td>0</td>\n",
       "      <td>bench</td>\n",
       "      <td>file</td>\n",
       "      <td>rudder</td>\n",
       "      <td>bench</td>\n",
       "      <td>0</td>\n",
       "      <td>1466</td>\n",
       "    </tr>\n",
       "  </tbody>\n",
       "</table>\n",
       "<p>52272 rows × 8 columns</p>\n",
       "</div>"
      ],
      "text/plain": [
       "       worker_no  exclude         item1      item2        item3 chosen_item  \\\n",
       "0              1        0     telegraph     bumper       canvas   telegraph   \n",
       "1              1        0  punching bag  tarantula    music box   tarantula   \n",
       "2              1        0     telegraph    chariot  rolling pin     chariot   \n",
       "3              1        0        rudder     bumper    washcloth   washcloth   \n",
       "4              1        0      flagpole     bucket        pizza       pizza   \n",
       "...          ...      ...           ...        ...          ...         ...   \n",
       "52267        121        0    candelabra       file          jet  candelabra   \n",
       "52268        121        0          dice        tea        pizza       pizza   \n",
       "52269        121        0          dice     canvas    telegraph      canvas   \n",
       "52270        121        0     washcloth       dice    bookshelf   bookshelf   \n",
       "52271        121        0         bench       file       rudder       bench   \n",
       "\n",
       "       isrepeat     RT  \n",
       "0             0  12260  \n",
       "1             0   2450  \n",
       "2             1   1916  \n",
       "3             0   2453  \n",
       "4             0   4671  \n",
       "...         ...    ...  \n",
       "52267         1   1632  \n",
       "52268         0   3525  \n",
       "52269         1   1606  \n",
       "52270         0   2083  \n",
       "52271         0   1466  \n",
       "\n",
       "[52272 rows x 8 columns]"
      ]
     },
     "execution_count": 3,
     "metadata": {},
     "output_type": "execute_result"
    }
   ],
   "source": [
    "# Read raw triplet data\n",
    "triplets_raw = pd.read_csv(\"data/things48triplets.csv\")\n",
    "# View data\n",
    "triplets_raw"
   ]
  },
  {
   "cell_type": "code",
   "execution_count": 4,
   "id": "4abc957b-bfdd-4f77-a223-82ed3ee0ebd3",
   "metadata": {},
   "outputs": [],
   "source": [
    "# filter based on inclusion flag\n",
    "triplets_filtered = triplets_raw.loc[triplets_raw['exclude'] == 0, ['item1', 'item2', 'item3', 'chosen_item']]"
   ]
  },
  {
   "cell_type": "code",
   "execution_count": 5,
   "id": "4cb4a928-24dc-4485-bbf1-24b1ca392cec",
   "metadata": {},
   "outputs": [
    {
     "data": {
      "text/plain": [
       "array(['a', 'b', 'c'], dtype='<U1')"
      ]
     },
     "execution_count": 5,
     "metadata": {},
     "output_type": "execute_result"
    }
   ],
   "source": [
    "np.unique([\"a\",\"c\",\"b\"])"
   ]
  },
  {
   "cell_type": "code",
   "execution_count": 6,
   "id": "c5ae284d-a463-4a0e-8b1a-f27d711bf0d2",
   "metadata": {},
   "outputs": [],
   "source": [
    "def convert_triplets_to_apns(\n",
    "    triplets_df, item_col_names=None, choice_col_name=None, item_names=None\n",
    "):\n",
    "    \"\"\"\n",
    "    Converts a dataframe containing triplet choices in the format (item1, item2, item3, choice)\n",
    "    to a numpy integer array in the anchor-positive-negative (APN) format.\n",
    "\n",
    "    Parameters\n",
    "    ----------\n",
    "    triplets_df : pandas.dataframe, with four columns containing item names.\n",
    "    item_col_names : list of str.  A list of three column names for the three item columns.\n",
    "        If None, then the first 3 columns are assumed to be the item columns.\n",
    "    choice_col_name : str.  The column name for the choice column.\n",
    "        If None, the 4th column is assumed to be the choice column.\n",
    "    item_names : numpy.array of str.  \n",
    "        The 0-indexed array where element i is the item name that will be mapped to integer i.\n",
    "        If None, the sorted list of unique item names is used to construct the mapping.\n",
    "\n",
    "    Returns\n",
    "    -------\n",
    "    apns : numpy.array containing triplets in apn format\n",
    "    item_names : list of item names\n",
    "    \"\"\"\n",
    "    assert len(triplets_df.columns) >= 4, \"triplets_df must have at least 4 columns\"\n",
    "    if item_col_names is None:\n",
    "        item_col_names = triplets_df.columns[:3]\n",
    "    if choice_col_name is None:\n",
    "        choice_col_name = triplets_df.columns[3]\n",
    "    if item_names is None:\n",
    "        item_names = np.unique(np.concatenate((\n",
    "            triplets_df[item_col_names[0]],triplets_df[item_col_names[1]],triplets_df[item_col_names[2]],\n",
    "            triplets_df[choice_col_name])))\n",
    "    # dict for converting name to ID\n",
    "    n2id = {n: i for i,n in enumerate(item_names)}\n",
    "    item0 = triplets_df[item_col_names[0]].map(n2id)\n",
    "    item1 = triplets_df[item_col_names[1]].map(n2id)\n",
    "    item2 = triplets_df[item_col_names[2]].map(n2id)\n",
    "    chosen = triplets_df[choice_col_name].map(n2id)\n",
    "    choice = np.zeros(len(triplets_df))\n",
    "    choice[item1 == chosen] = 1\n",
    "    choice[item2 == chosen] = 2\n",
    "    apns = np.zeros((len(triplets_df), 3), dtype=int)\n",
    "    # APN assignment\n",
    "    # choice anchor positive negative\n",
    "    #      0      1        2        0\n",
    "    #      1      0        2        1\n",
    "    #      2      0        1        2\n",
    "    apns[choice!=0, 0] = item0[choice!=0]\n",
    "    apns[choice==0, 0] = item1[choice==0]\n",
    "    apns[choice!=2, 1] = item2[choice!=2]\n",
    "    apns[choice==2, 1] = item1[choice==2]\n",
    "    apns[choice==0, 2] = item0[choice==0]\n",
    "    apns[choice==1, 2] = item1[choice==1]\n",
    "    apns[choice==2, 2] = item2[choice==2]\n",
    "    return apns, item_names"
   ]
  },
  {
   "cell_type": "code",
   "execution_count": 7,
   "id": "d34d035a-07e3-4e6f-b597-f362d5e43535",
   "metadata": {},
   "outputs": [],
   "source": [
    "apns, item_names = convert_triplets_to_apns(triplets_filtered)"
   ]
  },
  {
   "cell_type": "markdown",
   "id": "3848282d-1454-488c-a756-b307a48c6a37",
   "metadata": {},
   "source": [
    "### Explanation of APN format (Skippable)"
   ]
  },
  {
   "cell_type": "markdown",
   "id": "3e3c8561-5384-4f9e-b5a6-f65b9ec39ea9",
   "metadata": {},
   "source": [
    "The Anchor-positive-negative (APN) format is based on the two-forced choice task, in which the participant has to choose one out of two objects that is the most similar to the a query object, called the Anchor.  The Positive is the object chosen by the participant, and the Negative is object not chosen.  By listing the objects in the order of Anchor, Positive, and Negative, the APN format allows 2AFC trials to be presented compactly.\n",
    "\n",
    "We adapted the APN format to the odd-one-out task, by considering the object chosen as odd-one-out to take a similar role of the Negative in the 2FC task.  Hence, in the row corresponding to the trial, we will put the chosen odd-one-out object in the third position (Negative), while the other two objects are placed in the first two positions (Anchor and Positive).\n",
    "\n",
    "Let us look at one example.  In the 22nd row of the filtered triplets, we see a triplet where \"furnace\" was chosen as the odd-one-out among \"trophy\" and \"headphones\"."
   ]
  },
  {
   "cell_type": "code",
   "execution_count": 8,
   "id": "b95c82d4-274a-450a-ab30-5be58844b10a",
   "metadata": {},
   "outputs": [
    {
     "data": {
      "text/plain": [
       "item1             furnace\n",
       "item2              trophy\n",
       "item3          headphones\n",
       "chosen_item       furnace\n",
       "Name: 22, dtype: object"
      ]
     },
     "execution_count": 8,
     "metadata": {},
     "output_type": "execute_result"
    }
   ],
   "source": [
    "triplets_filtered.loc[22]"
   ]
  },
  {
   "cell_type": "markdown",
   "id": "b46d841f-1c59-4aa9-8f44-25ed069227a0",
   "metadata": {},
   "source": [
    "Hence, in APN format, furnace should be listed as the third item.  We can confirm that this is the case in the APN format array."
   ]
  },
  {
   "cell_type": "code",
   "execution_count": 9,
   "id": "5b9f4f25-8f51-4dc5-877b-419e5b5fc448",
   "metadata": {},
   "outputs": [
    {
     "data": {
      "text/plain": [
       "array(['trophy', 'headphones', 'furnace'], dtype=object)"
      ]
     },
     "execution_count": 9,
     "metadata": {},
     "output_type": "execute_result"
    }
   ],
   "source": [
    "item_names[apns[22]]"
   ]
  },
  {
   "cell_type": "markdown",
   "id": "e3faccf5-3016-4e66-96e9-3b70788602f9",
   "metadata": {},
   "source": [
    "Here is another example where \"bowler hat\", the third item, is the odd-one-out.  In this case, the ordering of the objects can remain the same for APN format."
   ]
  },
  {
   "cell_type": "code",
   "execution_count": 10,
   "id": "b78ae395-d919-4bde-b172-36d054f4623b",
   "metadata": {},
   "outputs": [
    {
     "data": {
      "text/plain": [
       "item1                tuba\n",
       "item2                knob\n",
       "item3          bowler hat\n",
       "chosen_item    bowler hat\n",
       "Name: 24, dtype: object"
      ]
     },
     "execution_count": 10,
     "metadata": {},
     "output_type": "execute_result"
    }
   ],
   "source": [
    "triplets_filtered.loc[24]"
   ]
  },
  {
   "cell_type": "code",
   "execution_count": 11,
   "id": "cbcb9111-5e70-4a5a-a5dc-6b584386fee0",
   "metadata": {},
   "outputs": [
    {
     "data": {
      "text/plain": [
       "array(['trophy', 'headphones', 'furnace'], dtype=object)"
      ]
     },
     "execution_count": 11,
     "metadata": {},
     "output_type": "execute_result"
    }
   ],
   "source": [
    "item_names[apns[22]]"
   ]
  },
  {
   "cell_type": "markdown",
   "id": "8656bc71-aa53-48b7-a1f1-796e6095879e",
   "metadata": {},
   "source": [
    "We just saw examples where the first item or the third item were the odd-one-out.  Now here is an example where the second item was picked."
   ]
  },
  {
   "cell_type": "code",
   "execution_count": 12,
   "id": "70745798-edd8-49b3-818c-dcdf9755da5f",
   "metadata": {},
   "outputs": [
    {
     "data": {
      "text/plain": [
       "item1              bumper\n",
       "item2               drain\n",
       "item3          bowler hat\n",
       "chosen_item         drain\n",
       "Name: 26, dtype: object"
      ]
     },
     "execution_count": 12,
     "metadata": {},
     "output_type": "execute_result"
    }
   ],
   "source": [
    "triplets_filtered.loc[26]"
   ]
  },
  {
   "cell_type": "code",
   "execution_count": 13,
   "id": "0a9bf93a-bc77-411d-aeae-ae216d9f8843",
   "metadata": {},
   "outputs": [
    {
     "data": {
      "text/plain": [
       "array(['bumper', 'bowler hat', 'drain'], dtype=object)"
      ]
     },
     "execution_count": 13,
     "metadata": {},
     "output_type": "execute_result"
    }
   ],
   "source": [
    "item_names[apns[26]]"
   ]
  },
  {
   "cell_type": "markdown",
   "id": "bc62e05c-3e8f-44a2-b50e-62d37ce7d8d9",
   "metadata": {},
   "source": [
    "## Creating a training-test split"
   ]
  },
  {
   "cell_type": "markdown",
   "id": "586b0979-80c0-4db1-a54d-6fe73e175908",
   "metadata": {},
   "source": [
    "VICE expects the user to supply data that has been split into a larger training partition, and a smaller test partition.  VICE provides tools to select hyperparameters using performance on the test partition.\n",
    "\n",
    "While developing the method, the authors used an approximately 90-10 training-test split (but maintaining a training set that was a multiple of 128, the batch size).  Users can feel free to use other sample size ratios.  However, the files must still be named according to the hardcoded convention of `train_90.txt`, `test_10.txt`."
   ]
  },
  {
   "cell_type": "code",
   "execution_count": 14,
   "id": "12194032-d682-4cee-ac9c-ac13e6d8a809",
   "metadata": {},
   "outputs": [],
   "source": [
    "from numpy.random import default_rng\n",
    "\n",
    "def train_test_split(apns, seed=0, train_frac=0.9, batch_size=128, copy_apns=True):\n",
    "    \"\"\"\n",
    "    Creates a training-test split from apns.\n",
    "\n",
    "    Parameters\n",
    "    ----------\n",
    "    apns : numpy.array\n",
    "        Triplet data in APN format.\n",
    "    seed : int\n",
    "        Random seed for shuffling, default 0.\n",
    "    copy_apns : bool\n",
    "        Whether to copy the apns array (to prevent the original array from getting shuffled).\n",
    "    \"\"\"\n",
    "    if copy_apns:\n",
    "        apns_copy = apns.copy()\n",
    "    else:\n",
    "        apns_copy = apns\n",
    "    rng = default_rng(seed)\n",
    "    rng.shuffle(apns_copy)\n",
    "    ntrain = int(np.floor(train_frac * len(apns)/batch_size)) * batch_size\n",
    "    apns_tr = apns_copy[:ntrain]\n",
    "    apns_te = apns_copy[ntrain:]\n",
    "    return apns_tr, apns_te"
   ]
  },
  {
   "cell_type": "code",
   "execution_count": 15,
   "id": "a28c4230-8a83-43ee-90eb-79740aa8ec51",
   "metadata": {},
   "outputs": [],
   "source": [
    "apns_tr, apns_te = train_test_split(apns, seed=2025)"
   ]
  },
  {
   "cell_type": "code",
   "execution_count": 16,
   "id": "d5fd3188-7f6d-4f08-85e8-27be81c675e8",
   "metadata": {},
   "outputs": [
    {
     "data": {
      "text/plain": [
       "array([[28, 17, 26],\n",
       "       [25, 41, 11],\n",
       "       [29, 24, 39],\n",
       "       ...,\n",
       "       [21, 14, 31],\n",
       "       [32, 27,  1],\n",
       "       [13, 24, 20]])"
      ]
     },
     "execution_count": 16,
     "metadata": {},
     "output_type": "execute_result"
    }
   ],
   "source": [
    "apns_tr"
   ]
  },
  {
   "cell_type": "code",
   "execution_count": 17,
   "id": "03740ed6-1a07-4ad1-942d-2197289c0448",
   "metadata": {},
   "outputs": [
    {
     "data": {
      "text/plain": [
       "array([[26, 40, 11],\n",
       "       [ 3, 40,  1],\n",
       "       [28, 12, 42],\n",
       "       ...,\n",
       "       [24, 28, 42],\n",
       "       [24, 44, 25],\n",
       "       [41, 13, 43]])"
      ]
     },
     "execution_count": 17,
     "metadata": {},
     "output_type": "execute_result"
    }
   ],
   "source": [
    "apns_te"
   ]
  },
  {
   "cell_type": "code",
   "execution_count": 18,
   "id": "3219e446-f29a-4f41-b39e-17135f20a0c1",
   "metadata": {},
   "outputs": [
    {
     "data": {
      "text/plain": [
       "array([[ 6, 10, 40],\n",
       "       [33, 29, 38],\n",
       "       [40, 34, 11],\n",
       "       ...,\n",
       "       [14, 40, 10],\n",
       "       [47, 14,  3],\n",
       "       [17, 35,  2]])"
      ]
     },
     "execution_count": 18,
     "metadata": {},
     "output_type": "execute_result"
    }
   ],
   "source": [
    "apns"
   ]
  },
  {
   "cell_type": "markdown",
   "id": "7319a8e6-845c-42db-83b8-cca5da149494",
   "metadata": {},
   "source": [
    "### Write train and test sets in VICE directory"
   ]
  },
  {
   "cell_type": "code",
   "execution_count": 19,
   "id": "308ae42c-f061-4b81-8228-0b02435a7034",
   "metadata": {},
   "outputs": [
    {
     "name": "stdout",
     "output_type": "stream",
     "text": [
      "LICENSE       README.md     \u001b[34mdata\u001b[m\u001b[m          example.ipynb\n"
     ]
    }
   ],
   "source": [
    "!ls"
   ]
  },
  {
   "cell_type": "code",
   "execution_count": 23,
   "id": "d132730e-5a54-4063-acac-52493ec7c08e",
   "metadata": {},
   "outputs": [
    {
     "name": "stdout",
     "output_type": "stream",
     "text": [
      "/Users/zhengchy/github/VICE\n"
     ]
    },
    {
     "name": "stderr",
     "output_type": "stream",
     "text": [
      "/Users/zhengchy/miniconda3/envs/torchbook/lib/python3.12/site-packages/IPython/core/magics/osm.py:417: UserWarning: using dhist requires you to install the `pickleshare` library.\n",
      "  self.shell.db['dhist'] = compress_dhist(dhist)[-100:]\n"
     ]
    }
   ],
   "source": [
    "%cd $VICE_path"
   ]
  },
  {
   "cell_type": "code",
   "execution_count": 24,
   "id": "a58e1d78-7a8e-44df-9092-22a74073c269",
   "metadata": {},
   "outputs": [
    {
     "name": "stdout",
     "output_type": "stream",
     "text": [
      "DEMO.ipynb              find_best_hypers.py     \u001b[34mplots\u001b[m\u001b[m\n",
      "LICENSE                 \u001b[31mget_embeddings.sh\u001b[m\u001b[m       \u001b[34mprobas\u001b[m\u001b[m\n",
      "README.md               main_inference.py       requirements.txt\n",
      "\u001b[34m__pycache__\u001b[m\u001b[m             main_optimization.py    \u001b[34mresults\u001b[m\u001b[m\n",
      "\u001b[34mbash_scripts\u001b[m\u001b[m            main_robustness_eval.py \u001b[34mtests\u001b[m\u001b[m\n",
      "create_things_splits.py main_tripletize.py      utils.py\n",
      "\u001b[34mdata\u001b[m\u001b[m                    \u001b[34mmodel\u001b[m\u001b[m                   visualization.py\n",
      "\u001b[34membeddings\u001b[m\u001b[m              \u001b[34moptimization\u001b[m\u001b[m\n",
      "\u001b[34menvs\u001b[m\u001b[m                    partition_triplets.py\n"
     ]
    }
   ],
   "source": [
    "!ls\n"
   ]
  },
  {
   "cell_type": "code",
   "execution_count": 25,
   "id": "e69b2e23-7f5c-4984-9444-a7c52b26557b",
   "metadata": {},
   "outputs": [
    {
     "name": "stdout",
     "output_type": "stream",
     "text": [
      "/Users/zhengchy/github/VICE/data\n"
     ]
    }
   ],
   "source": [
    "cd data"
   ]
  },
  {
   "cell_type": "code",
   "execution_count": 27,
   "id": "347a835a-f6f3-4e95-96a4-ede4a2f9f9cc",
   "metadata": {},
   "outputs": [],
   "source": [
    "mkdir tutorial_things48"
   ]
  },
  {
   "cell_type": "code",
   "execution_count": 28,
   "id": "2712a1fe-cdba-4cb6-9bdd-d8c537114525",
   "metadata": {},
   "outputs": [
    {
     "name": "stdout",
     "output_type": "stream",
     "text": [
      "/Users/zhengchy/github/VICE/data/tutorial_things48\n"
     ]
    }
   ],
   "source": [
    "cd tutorial_things48"
   ]
  },
  {
   "cell_type": "code",
   "execution_count": 30,
   "id": "1db72cd8-eb94-4aea-a619-db6e915fe831",
   "metadata": {},
   "outputs": [],
   "source": [
    "np.savetxt(\"train_90.txt\", apns_tr, fmt=\"%i\")"
   ]
  },
  {
   "cell_type": "code",
   "execution_count": 31,
   "id": "e6fa546d-c065-44db-a63f-597bb073c921",
   "metadata": {},
   "outputs": [],
   "source": [
    "np.savetxt(\"test_10.txt\", apns_te, fmt=\"%i\")"
   ]
  },
  {
   "cell_type": "code",
   "execution_count": 32,
   "id": "6850c3b1-b452-494a-aa32-7bdd3cf4df97",
   "metadata": {},
   "outputs": [
    {
     "name": "stdout",
     "output_type": "stream",
     "text": [
      "/Users/zhengchy/github/VICE\n"
     ]
    }
   ],
   "source": [
    "cd ../.."
   ]
  },
  {
   "cell_type": "markdown",
   "id": "b7c5f1d7-b7d4-454f-aa19-76906ee81e8d",
   "metadata": {},
   "source": [
    "## Run VICE"
   ]
  },
  {
   "cell_type": "code",
   "execution_count": 38,
   "id": "4c0471fa-5498-4857-b8e6-309760fa563e",
   "metadata": {},
   "outputs": [
    {
     "name": "stdout",
     "output_type": "stream",
     "text": [
      "DEMO.ipynb              find_best_hypers.py     \u001b[34mplots\u001b[m\u001b[m\n",
      "LICENSE                 \u001b[31mget_embeddings.sh\u001b[m\u001b[m       \u001b[34mprobas\u001b[m\u001b[m\n",
      "README.md               main_inference.py       requirements.txt\n",
      "\u001b[34m__pycache__\u001b[m\u001b[m             main_optimization.py    \u001b[34mresults\u001b[m\u001b[m\n",
      "\u001b[34mbash_scripts\u001b[m\u001b[m            main_robustness_eval.py \u001b[34mtests\u001b[m\u001b[m\n",
      "create_things_splits.py main_tripletize.py      utils.py\n",
      "\u001b[34mdata\u001b[m\u001b[m                    \u001b[34mmodel\u001b[m\u001b[m                   visualization.py\n",
      "\u001b[34membeddings\u001b[m\u001b[m              \u001b[34moptimization\u001b[m\u001b[m\n",
      "\u001b[34menvs\u001b[m\u001b[m                    partition_triplets.py\n"
     ]
    }
   ],
   "source": [
    "!ls"
   ]
  },
  {
   "cell_type": "code",
   "execution_count": null,
   "id": "65ea85c4-eff5-4d19-8c44-ac6947a8da27",
   "metadata": {},
   "outputs": [],
   "source": [
    "!conda run -n vice python main_optimization.py --task odd-one-out --triplets_dir data/tutorial_things48 --epochs 800 --burnin 300 --eta 0.001 --init_dim 50 --batch_size 128 --optim adam --mixture gaussian --mc_samples 10 --spike 0.25 --slab 1.0 --pi 0.5 --k 5 --ws 200 --steps 100 --device cpu --num_threads 1 --rnd_seed 2025 --verbose"
   ]
  },
  {
   "cell_type": "code",
   "execution_count": null,
   "id": "b6715e65-71cb-4757-bcb7-9c9fa23ef568",
   "metadata": {},
   "outputs": [],
   "source": []
  }
 ],
 "metadata": {
  "kernelspec": {
   "display_name": "Python 3 (ipykernel)",
   "language": "python",
   "name": "python3"
  },
  "language_info": {
   "codemirror_mode": {
    "name": "ipython",
    "version": 3
   },
   "file_extension": ".py",
   "mimetype": "text/x-python",
   "name": "python",
   "nbconvert_exporter": "python",
   "pygments_lexer": "ipython3",
   "version": "3.12.2"
  }
 },
 "nbformat": 4,
 "nbformat_minor": 5
}
