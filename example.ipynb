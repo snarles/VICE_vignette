{
 "cells": [
  {
   "cell_type": "markdown",
   "id": "aee9cc31-a639-48e0-92ac-22f7959d8493",
   "metadata": {},
   "source": [
    "# Introduction to VICE"
   ]
  },
  {
   "cell_type": "markdown",
   "id": "e2468153-d67a-445b-83c1-6f419a5b1366",
   "metadata": {},
   "source": [
    "### Load libraries"
   ]
  },
  {
   "cell_type": "code",
   "execution_count": 17,
   "id": "701edf7c-d37e-4680-aedd-2efb51697d45",
   "metadata": {},
   "outputs": [],
   "source": [
    "import numpy as np\n",
    "import pandas as pd"
   ]
  },
  {
   "cell_type": "markdown",
   "id": "5d7c800d-8c2a-4c19-8772-fd6ccdf54878",
   "metadata": {},
   "source": [
    "## Processing Data"
   ]
  },
  {
   "cell_type": "code",
   "execution_count": 18,
   "id": "60d8e5da-dab8-486b-a3e7-5e432810f7c6",
   "metadata": {},
   "outputs": [
    {
     "data": {
      "text/html": [
       "<div>\n",
       "<style scoped>\n",
       "    .dataframe tbody tr th:only-of-type {\n",
       "        vertical-align: middle;\n",
       "    }\n",
       "\n",
       "    .dataframe tbody tr th {\n",
       "        vertical-align: top;\n",
       "    }\n",
       "\n",
       "    .dataframe thead th {\n",
       "        text-align: right;\n",
       "    }\n",
       "</style>\n",
       "<table border=\"1\" class=\"dataframe\">\n",
       "  <thead>\n",
       "    <tr style=\"text-align: right;\">\n",
       "      <th></th>\n",
       "      <th>worker_no</th>\n",
       "      <th>exclude</th>\n",
       "      <th>item1</th>\n",
       "      <th>item2</th>\n",
       "      <th>item3</th>\n",
       "      <th>chosen_item</th>\n",
       "      <th>isrepeat</th>\n",
       "      <th>RT</th>\n",
       "    </tr>\n",
       "  </thead>\n",
       "  <tbody>\n",
       "    <tr>\n",
       "      <th>0</th>\n",
       "      <td>1</td>\n",
       "      <td>0</td>\n",
       "      <td>telegraph</td>\n",
       "      <td>bumper</td>\n",
       "      <td>canvas</td>\n",
       "      <td>telegraph</td>\n",
       "      <td>0</td>\n",
       "      <td>12260</td>\n",
       "    </tr>\n",
       "    <tr>\n",
       "      <th>1</th>\n",
       "      <td>1</td>\n",
       "      <td>0</td>\n",
       "      <td>punching bag</td>\n",
       "      <td>tarantula</td>\n",
       "      <td>music box</td>\n",
       "      <td>tarantula</td>\n",
       "      <td>0</td>\n",
       "      <td>2450</td>\n",
       "    </tr>\n",
       "    <tr>\n",
       "      <th>2</th>\n",
       "      <td>1</td>\n",
       "      <td>0</td>\n",
       "      <td>telegraph</td>\n",
       "      <td>chariot</td>\n",
       "      <td>rolling pin</td>\n",
       "      <td>chariot</td>\n",
       "      <td>1</td>\n",
       "      <td>1916</td>\n",
       "    </tr>\n",
       "    <tr>\n",
       "      <th>3</th>\n",
       "      <td>1</td>\n",
       "      <td>0</td>\n",
       "      <td>rudder</td>\n",
       "      <td>bumper</td>\n",
       "      <td>washcloth</td>\n",
       "      <td>washcloth</td>\n",
       "      <td>0</td>\n",
       "      <td>2453</td>\n",
       "    </tr>\n",
       "    <tr>\n",
       "      <th>4</th>\n",
       "      <td>1</td>\n",
       "      <td>0</td>\n",
       "      <td>flagpole</td>\n",
       "      <td>bucket</td>\n",
       "      <td>pizza</td>\n",
       "      <td>pizza</td>\n",
       "      <td>0</td>\n",
       "      <td>4671</td>\n",
       "    </tr>\n",
       "    <tr>\n",
       "      <th>...</th>\n",
       "      <td>...</td>\n",
       "      <td>...</td>\n",
       "      <td>...</td>\n",
       "      <td>...</td>\n",
       "      <td>...</td>\n",
       "      <td>...</td>\n",
       "      <td>...</td>\n",
       "      <td>...</td>\n",
       "    </tr>\n",
       "    <tr>\n",
       "      <th>52267</th>\n",
       "      <td>121</td>\n",
       "      <td>0</td>\n",
       "      <td>candelabra</td>\n",
       "      <td>file</td>\n",
       "      <td>jet</td>\n",
       "      <td>candelabra</td>\n",
       "      <td>1</td>\n",
       "      <td>1632</td>\n",
       "    </tr>\n",
       "    <tr>\n",
       "      <th>52268</th>\n",
       "      <td>121</td>\n",
       "      <td>0</td>\n",
       "      <td>dice</td>\n",
       "      <td>tea</td>\n",
       "      <td>pizza</td>\n",
       "      <td>pizza</td>\n",
       "      <td>0</td>\n",
       "      <td>3525</td>\n",
       "    </tr>\n",
       "    <tr>\n",
       "      <th>52269</th>\n",
       "      <td>121</td>\n",
       "      <td>0</td>\n",
       "      <td>dice</td>\n",
       "      <td>canvas</td>\n",
       "      <td>telegraph</td>\n",
       "      <td>canvas</td>\n",
       "      <td>1</td>\n",
       "      <td>1606</td>\n",
       "    </tr>\n",
       "    <tr>\n",
       "      <th>52270</th>\n",
       "      <td>121</td>\n",
       "      <td>0</td>\n",
       "      <td>washcloth</td>\n",
       "      <td>dice</td>\n",
       "      <td>bookshelf</td>\n",
       "      <td>bookshelf</td>\n",
       "      <td>0</td>\n",
       "      <td>2083</td>\n",
       "    </tr>\n",
       "    <tr>\n",
       "      <th>52271</th>\n",
       "      <td>121</td>\n",
       "      <td>0</td>\n",
       "      <td>bench</td>\n",
       "      <td>file</td>\n",
       "      <td>rudder</td>\n",
       "      <td>bench</td>\n",
       "      <td>0</td>\n",
       "      <td>1466</td>\n",
       "    </tr>\n",
       "  </tbody>\n",
       "</table>\n",
       "<p>52272 rows × 8 columns</p>\n",
       "</div>"
      ],
      "text/plain": [
       "       worker_no  exclude         item1      item2        item3 chosen_item  \\\n",
       "0              1        0     telegraph     bumper       canvas   telegraph   \n",
       "1              1        0  punching bag  tarantula    music box   tarantula   \n",
       "2              1        0     telegraph    chariot  rolling pin     chariot   \n",
       "3              1        0        rudder     bumper    washcloth   washcloth   \n",
       "4              1        0      flagpole     bucket        pizza       pizza   \n",
       "...          ...      ...           ...        ...          ...         ...   \n",
       "52267        121        0    candelabra       file          jet  candelabra   \n",
       "52268        121        0          dice        tea        pizza       pizza   \n",
       "52269        121        0          dice     canvas    telegraph      canvas   \n",
       "52270        121        0     washcloth       dice    bookshelf   bookshelf   \n",
       "52271        121        0         bench       file       rudder       bench   \n",
       "\n",
       "       isrepeat     RT  \n",
       "0             0  12260  \n",
       "1             0   2450  \n",
       "2             1   1916  \n",
       "3             0   2453  \n",
       "4             0   4671  \n",
       "...         ...    ...  \n",
       "52267         1   1632  \n",
       "52268         0   3525  \n",
       "52269         1   1606  \n",
       "52270         0   2083  \n",
       "52271         0   1466  \n",
       "\n",
       "[52272 rows x 8 columns]"
      ]
     },
     "execution_count": 18,
     "metadata": {},
     "output_type": "execute_result"
    }
   ],
   "source": [
    "# Read raw triplet data\n",
    "triplets_raw = pd.read_csv(\"data/things48triplets.csv\")\n",
    "# View data\n",
    "triplets_raw"
   ]
  },
  {
   "cell_type": "code",
   "execution_count": 19,
   "id": "4abc957b-bfdd-4f77-a223-82ed3ee0ebd3",
   "metadata": {},
   "outputs": [],
   "source": [
    "# filter based on inclusion flag\n",
    "triplets_filtered = triplets_raw.loc[triplets_raw['exclude'] == 0, ['item1', 'item2', 'item3', 'chosen_item']]"
   ]
  },
  {
   "cell_type": "code",
   "execution_count": 20,
   "id": "4cb4a928-24dc-4485-bbf1-24b1ca392cec",
   "metadata": {},
   "outputs": [
    {
     "data": {
      "text/plain": [
       "array(['a', 'b', 'c'], dtype='<U1')"
      ]
     },
     "execution_count": 20,
     "metadata": {},
     "output_type": "execute_result"
    }
   ],
   "source": [
    "np.unique([\"a\",\"c\",\"b\"])"
   ]
  },
  {
   "cell_type": "code",
   "execution_count": 40,
   "id": "c5ae284d-a463-4a0e-8b1a-f27d711bf0d2",
   "metadata": {},
   "outputs": [],
   "source": [
    "def convert_triplets_to_apns(\n",
    "    triplets_df, item_col_names=None, choice_col_name=None, item_names=None\n",
    "):\n",
    "    \"\"\"\n",
    "    Converts a dataframe containing triplet choices in the format (item1, item2, item3, choice)\n",
    "    to a numpy integer array in the anchor-positive-negative (APN) format.\n",
    "\n",
    "    Parameters\n",
    "    ----------\n",
    "    triplets_df : pandas.dataframe, with four columns containing item names.\n",
    "    item_col_names : list of str.  A list of three column names for the three item columns.\n",
    "        If None, then the first 3 columns are assumed to be the item columns.\n",
    "    choice_col_name : str.  The column name for the choice column.\n",
    "        If None, the 4th column is assumed to be the choice column.\n",
    "    item_names : numpy.array of str.  \n",
    "        The 0-indexed array where element i is the item name that will be mapped to integer i.\n",
    "        If None, the sorted list of unique item names is used to construct the mapping.\n",
    "\n",
    "    Returns\n",
    "    -------\n",
    "    apns : numpy.array containing triplets in apn format\n",
    "    item_names : list of item names\n",
    "    \"\"\"\n",
    "    assert len(triplets_df.columns) >= 4, \"triplets_df must have at least 4 columns\"\n",
    "    if item_col_names is None:\n",
    "        item_col_names = triplets_df.columns[:3]\n",
    "    if choice_col_name is None:\n",
    "        choice_col_name = triplets_df.columns[3]\n",
    "    if item_names is None:\n",
    "        item_names = np.unique(np.concatenate((\n",
    "            triplets_df[item_col_names[0]],triplets_df[item_col_names[1]],triplets_df[item_col_names[2]],\n",
    "            triplets_df[choice_col_name])))\n",
    "    # dict for converting name to ID\n",
    "    n2id = {n: i for i,n in enumerate(item_names)}\n",
    "    item0 = triplets_df[item_col_names[0]].map(n2id)\n",
    "    item1 = triplets_df[item_col_names[1]].map(n2id)\n",
    "    item2 = triplets_df[item_col_names[2]].map(n2id)\n",
    "    chosen = triplets_df[choice_col_name].map(n2id)\n",
    "    choice = np.zeros(len(triplets_df))\n",
    "    choice[item1 == chosen] = 1\n",
    "    choice[item2 == chosen] = 2\n",
    "    apns = np.zeros((len(triplets_df), 3), dtype=int)\n",
    "    # APN assignment\n",
    "    # choice anchor positive negative\n",
    "    #      0      1        2        0\n",
    "    #      1      0        2        1\n",
    "    #      2      0        1        2\n",
    "    apns[choice!=0, 0] = item0[choice!=0]\n",
    "    apns[choice==0, 0] = item1[choice==0]\n",
    "    apns[choice!=2, 1] = item2[choice!=2]\n",
    "    apns[choice==2, 1] = item1[choice==2]\n",
    "    apns[choice==0, 2] = item0[choice==0]\n",
    "    apns[choice==1, 2] = item1[choice==1]\n",
    "    apns[choice==2, 2] = item2[choice==2]\n",
    "    return apns, item_names"
   ]
  },
  {
   "cell_type": "code",
   "execution_count": 41,
   "id": "d34d035a-07e3-4e6f-b597-f362d5e43535",
   "metadata": {},
   "outputs": [],
   "source": [
    "apns, item_names = convert_triplets_to_apns(triplets_filtered)"
   ]
  },
  {
   "cell_type": "markdown",
   "id": "3848282d-1454-488c-a756-b307a48c6a37",
   "metadata": {},
   "source": [
    "### Explanation of APN format (Skippable)"
   ]
  },
  {
   "cell_type": "code",
   "execution_count": 47,
   "id": "5b9f4f25-8f51-4dc5-877b-419e5b5fc448",
   "metadata": {},
   "outputs": [
    {
     "data": {
      "text/plain": [
       "array(['trophy', 'headphones', 'furnace'], dtype=object)"
      ]
     },
     "execution_count": 47,
     "metadata": {},
     "output_type": "execute_result"
    }
   ],
   "source": [
    "item_names[apns[22]]"
   ]
  },
  {
   "cell_type": "code",
   "execution_count": 48,
   "id": "8386b131-9c61-4a73-ae64-6633ac49ee3d",
   "metadata": {},
   "outputs": [
    {
     "data": {
      "text/plain": [
       "item1             furnace\n",
       "item2              trophy\n",
       "item3          headphones\n",
       "chosen_item       furnace\n",
       "Name: 22, dtype: object"
      ]
     },
     "execution_count": 48,
     "metadata": {},
     "output_type": "execute_result"
    }
   ],
   "source": [
    "triplets_filtered.loc[22]"
   ]
  },
  {
   "cell_type": "code",
   "execution_count": null,
   "id": "b78ae395-d919-4bde-b172-36d054f4623b",
   "metadata": {},
   "outputs": [],
   "source": []
  }
 ],
 "metadata": {
  "kernelspec": {
   "display_name": "Python 3 (ipykernel)",
   "language": "python",
   "name": "python3"
  },
  "language_info": {
   "codemirror_mode": {
    "name": "ipython",
    "version": 3
   },
   "file_extension": ".py",
   "mimetype": "text/x-python",
   "name": "python",
   "nbconvert_exporter": "python",
   "pygments_lexer": "ipython3",
   "version": "3.12.2"
  }
 },
 "nbformat": 4,
 "nbformat_minor": 5
}
